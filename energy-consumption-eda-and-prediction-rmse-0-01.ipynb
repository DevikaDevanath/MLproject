{
 "cells": [
  {
   "cell_type": "markdown",
   "id": "e9c4cb69",
   "metadata": {
    "papermill": {
     "duration": 0.008605,
     "end_time": "2025-01-07T07:34:15.498890",
     "exception": false,
     "start_time": "2025-01-07T07:34:15.490285",
     "status": "completed"
    },
    "tags": []
   },
   "source": [
    "<h1 style=\"text-align: center; font-size: 2.5em; color: #2E8B57;\">Energy Consumption EDA and Prediction</h1>\n",
    "<hr style=\"border: 1px solid #2E8B57;\"/>"
   ]
  },
  {
   "cell_type": "markdown",
   "id": "fa80427d",
   "metadata": {
    "papermill": {
     "duration": 0.006808,
     "end_time": "2025-01-07T07:34:15.514048",
     "exception": false,
     "start_time": "2025-01-07T07:34:15.507240",
     "status": "completed"
    },
    "tags": []
   },
   "source": [
    "# 1. IMPORTING LIBRARIES"
   ]
  },
  {
   "cell_type": "code",
   "execution_count": 4,
   "id": "7c0d688a",
   "metadata": {
    "execution": {
     "iopub.execute_input": "2025-01-07T07:34:15.529744Z",
     "iopub.status.busy": "2025-01-07T07:34:15.529361Z",
     "iopub.status.idle": "2025-01-07T07:34:18.533887Z",
     "shell.execute_reply": "2025-01-07T07:34:18.532522Z"
    },
    "papermill": {
     "duration": 3.014957,
     "end_time": "2025-01-07T07:34:18.536192",
     "exception": false,
     "start_time": "2025-01-07T07:34:15.521235",
     "status": "completed"
    },
    "tags": []
   },
   "outputs": [],
   "source": [
    "import pandas as pd\n",
    "import numpy as np\n",
    "import matplotlib.pyplot as plt \n",
    "import seaborn as sns\n",
    "\n",
    "from sklearn.model_selection import train_test_split\n",
    "from sklearn.metrics import mean_squared_error\n",
    "\n",
    "from sklearn.linear_model import LinearRegression\n",
    "from sklearn.metrics import mean_squared_error\n",
    "\n",
    "import warnings\n",
    "warnings.simplefilter('ignore')"
   ]
  },
  {
   "cell_type": "markdown",
   "id": "ee526141",
   "metadata": {
    "papermill": {
     "duration": 0.006758,
     "end_time": "2025-01-07T07:34:18.550629",
     "exception": false,
     "start_time": "2025-01-07T07:34:18.543871",
     "status": "completed"
    },
    "tags": []
   },
   "source": [
    "# 2. LOAD THE DATA"
   ]
  },
  {
   "cell_type": "code",
   "execution_count": 5,
   "id": "195ceefe",
   "metadata": {
    "execution": {
     "iopub.execute_input": "2025-01-07T07:34:18.566381Z",
     "iopub.status.busy": "2025-01-07T07:34:18.565800Z",
     "iopub.status.idle": "2025-01-07T07:34:18.590161Z",
     "shell.execute_reply": "2025-01-07T07:34:18.588839Z"
    },
    "papermill": {
     "duration": 0.034535,
     "end_time": "2025-01-07T07:34:18.592274",
     "exception": false,
     "start_time": "2025-01-07T07:34:18.557739",
     "status": "completed"
    },
    "tags": []
   },
   "outputs": [],
   "source": [
    "df_train = pd.read_csv(r\"C:\\Users\\Acer\\Downloads\\test_energy_data (1).csv\")"
   ]
  },
  {
   "cell_type": "code",
   "execution_count": 6,
   "id": "99f9ce21",
   "metadata": {
    "execution": {
     "iopub.execute_input": "2025-01-07T07:34:18.608125Z",
     "iopub.status.busy": "2025-01-07T07:34:18.607703Z",
     "iopub.status.idle": "2025-01-07T07:34:18.635973Z",
     "shell.execute_reply": "2025-01-07T07:34:18.634933Z"
    },
    "papermill": {
     "duration": 0.038362,
     "end_time": "2025-01-07T07:34:18.637933",
     "exception": false,
     "start_time": "2025-01-07T07:34:18.599571",
     "status": "completed"
    },
    "tags": []
   },
   "outputs": [
    {
     "data": {
      "text/html": [
       "<div>\n",
       "<style scoped>\n",
       "    .dataframe tbody tr th:only-of-type {\n",
       "        vertical-align: middle;\n",
       "    }\n",
       "\n",
       "    .dataframe tbody tr th {\n",
       "        vertical-align: top;\n",
       "    }\n",
       "\n",
       "    .dataframe thead th {\n",
       "        text-align: right;\n",
       "    }\n",
       "</style>\n",
       "<table border=\"1\" class=\"dataframe\">\n",
       "  <thead>\n",
       "    <tr style=\"text-align: right;\">\n",
       "      <th></th>\n",
       "      <th>Building Type</th>\n",
       "      <th>Square Footage</th>\n",
       "      <th>Number of Occupants</th>\n",
       "      <th>Appliances Used</th>\n",
       "      <th>Average Temperature</th>\n",
       "      <th>Day of Week</th>\n",
       "      <th>Energy Consumption</th>\n",
       "    </tr>\n",
       "  </thead>\n",
       "  <tbody>\n",
       "    <tr>\n",
       "      <th>0</th>\n",
       "      <td>Residential</td>\n",
       "      <td>24563</td>\n",
       "      <td>15</td>\n",
       "      <td>4</td>\n",
       "      <td>28.52</td>\n",
       "      <td>Weekday</td>\n",
       "      <td>2865.57</td>\n",
       "    </tr>\n",
       "    <tr>\n",
       "      <th>1</th>\n",
       "      <td>Commercial</td>\n",
       "      <td>27583</td>\n",
       "      <td>56</td>\n",
       "      <td>23</td>\n",
       "      <td>23.07</td>\n",
       "      <td>Weekend</td>\n",
       "      <td>4283.80</td>\n",
       "    </tr>\n",
       "    <tr>\n",
       "      <th>2</th>\n",
       "      <td>Commercial</td>\n",
       "      <td>45313</td>\n",
       "      <td>4</td>\n",
       "      <td>44</td>\n",
       "      <td>33.56</td>\n",
       "      <td>Weekday</td>\n",
       "      <td>5067.83</td>\n",
       "    </tr>\n",
       "    <tr>\n",
       "      <th>3</th>\n",
       "      <td>Residential</td>\n",
       "      <td>41625</td>\n",
       "      <td>84</td>\n",
       "      <td>17</td>\n",
       "      <td>27.39</td>\n",
       "      <td>Weekend</td>\n",
       "      <td>4624.30</td>\n",
       "    </tr>\n",
       "    <tr>\n",
       "      <th>4</th>\n",
       "      <td>Residential</td>\n",
       "      <td>36720</td>\n",
       "      <td>58</td>\n",
       "      <td>47</td>\n",
       "      <td>17.08</td>\n",
       "      <td>Weekday</td>\n",
       "      <td>4820.59</td>\n",
       "    </tr>\n",
       "  </tbody>\n",
       "</table>\n",
       "</div>"
      ],
      "text/plain": [
       "  Building Type  Square Footage  Number of Occupants  Appliances Used  \\\n",
       "0   Residential           24563                   15                4   \n",
       "1    Commercial           27583                   56               23   \n",
       "2    Commercial           45313                    4               44   \n",
       "3   Residential           41625                   84               17   \n",
       "4   Residential           36720                   58               47   \n",
       "\n",
       "   Average Temperature Day of Week  Energy Consumption  \n",
       "0                28.52     Weekday             2865.57  \n",
       "1                23.07     Weekend             4283.80  \n",
       "2                33.56     Weekday             5067.83  \n",
       "3                27.39     Weekend             4624.30  \n",
       "4                17.08     Weekday             4820.59  "
      ]
     },
     "execution_count": 6,
     "metadata": {},
     "output_type": "execute_result"
    }
   ],
   "source": [
    "df_train.head()"
   ]
  },
  {
   "cell_type": "code",
   "execution_count": 7,
   "id": "5737eaf9",
   "metadata": {
    "execution": {
     "iopub.execute_input": "2025-01-07T07:34:18.655111Z",
     "iopub.status.busy": "2025-01-07T07:34:18.654691Z",
     "iopub.status.idle": "2025-01-07T07:34:18.684587Z",
     "shell.execute_reply": "2025-01-07T07:34:18.683140Z"
    },
    "papermill": {
     "duration": 0.040256,
     "end_time": "2025-01-07T07:34:18.686443",
     "exception": false,
     "start_time": "2025-01-07T07:34:18.646187",
     "status": "completed"
    },
    "tags": []
   },
   "outputs": [
    {
     "name": "stdout",
     "output_type": "stream",
     "text": [
      "<class 'pandas.core.frame.DataFrame'>\n",
      "RangeIndex: 100 entries, 0 to 99\n",
      "Data columns (total 7 columns):\n",
      " #   Column               Non-Null Count  Dtype  \n",
      "---  ------               --------------  -----  \n",
      " 0   Building Type        100 non-null    object \n",
      " 1   Square Footage       100 non-null    int64  \n",
      " 2   Number of Occupants  100 non-null    int64  \n",
      " 3   Appliances Used      100 non-null    int64  \n",
      " 4   Average Temperature  100 non-null    float64\n",
      " 5   Day of Week          100 non-null    object \n",
      " 6   Energy Consumption   100 non-null    float64\n",
      "dtypes: float64(2), int64(3), object(2)\n",
      "memory usage: 5.6+ KB\n"
     ]
    }
   ],
   "source": [
    "df_train.info()"
   ]
  },
  {
   "cell_type": "code",
   "execution_count": 8,
   "id": "28bbf7c1",
   "metadata": {
    "execution": {
     "iopub.execute_input": "2025-01-07T07:34:18.702667Z",
     "iopub.status.busy": "2025-01-07T07:34:18.702307Z",
     "iopub.status.idle": "2025-01-07T07:34:18.709897Z",
     "shell.execute_reply": "2025-01-07T07:34:18.708898Z"
    },
    "papermill": {
     "duration": 0.017327,
     "end_time": "2025-01-07T07:34:18.711429",
     "exception": false,
     "start_time": "2025-01-07T07:34:18.694102",
     "status": "completed"
    },
    "tags": []
   },
   "outputs": [
    {
     "data": {
      "text/plain": [
       "Building Type          0\n",
       "Square Footage         0\n",
       "Number of Occupants    0\n",
       "Appliances Used        0\n",
       "Average Temperature    0\n",
       "Day of Week            0\n",
       "Energy Consumption     0\n",
       "dtype: int64"
      ]
     },
     "execution_count": 8,
     "metadata": {},
     "output_type": "execute_result"
    }
   ],
   "source": [
    "df_train.isna().sum()"
   ]
  },
  {
   "cell_type": "markdown",
   "id": "d205789d",
   "metadata": {
    "papermill": {
     "duration": 0.006941,
     "end_time": "2025-01-07T07:34:18.725928",
     "exception": false,
     "start_time": "2025-01-07T07:34:18.718987",
     "status": "completed"
    },
    "tags": []
   },
   "source": [
    "# 3. EDA"
   ]
  },
  {
   "cell_type": "markdown",
   "id": "26be37bf",
   "metadata": {
    "papermill": {
     "duration": 0.006998,
     "end_time": "2025-01-07T07:34:18.740845",
     "exception": false,
     "start_time": "2025-01-07T07:34:18.733847",
     "status": "completed"
    },
    "tags": []
   },
   "source": [
    "## Histogram for Energy Consumption"
   ]
  },
  {
   "cell_type": "code",
   "execution_count": 9,
   "id": "988b5f79",
   "metadata": {
    "execution": {
     "iopub.execute_input": "2025-01-07T07:34:18.757079Z",
     "iopub.status.busy": "2025-01-07T07:34:18.756685Z",
     "iopub.status.idle": "2025-01-07T07:34:19.218582Z",
     "shell.execute_reply": "2025-01-07T07:34:19.217526Z"
    },
    "papermill": {
     "duration": 0.472027,
     "end_time": "2025-01-07T07:34:19.220407",
     "exception": false,
     "start_time": "2025-01-07T07:34:18.748380",
     "status": "completed"
    },
    "tags": []
   },
   "outputs": [
    {
     "data": {
      "image/png": "[encoded data removed]",
      "text/plain": [
       "<Figure size 1000x600 with 1 Axes>"
      ]
     },
     "metadata": {},
     "output_type": "display_data"
    }
   ],
   "source": [
    "sns.set_style(\"whitegrid\")\n",
    "\n",
    "plt.figure(figsize=(10, 6))\n",
    "sns.histplot(df_train['Energy Consumption'], kde=True, color='blue', bins=30)\n",
    "plt.title('Distribution of Energy Consumption', fontsize=16)\n",
    "plt.xlabel('Energy Consumption', fontsize=12)\n",
    "plt.ylabel('Frequency', fontsize=12)\n",
    "plt.show()"
   ]
  },
  {
   "cell_type": "markdown",
   "id": "4d7a381e",
   "metadata": {
    "papermill": {
     "duration": 0.007994,
     "end_time": "2025-01-07T07:34:19.237191",
     "exception": false,
     "start_time": "2025-01-07T07:34:19.229197",
     "status": "completed"
    },
    "tags": []
   },
   "source": [
    "## Average Energy Consumption by Building Type"
   ]
  },
  {
   "cell_type": "code",
   "execution_count": 10,
   "id": "b11b2905",
   "metadata": {
    "execution": {
     "iopub.execute_input": "2025-01-07T07:34:19.255262Z",
     "iopub.status.busy": "2025-01-07T07:34:19.254876Z",
     "iopub.status.idle": "2025-01-07T07:34:19.594674Z",
     "shell.execute_reply": "2025-01-07T07:34:19.593539Z"
    },
    "papermill": {
     "duration": 0.350909,
     "end_time": "2025-01-07T07:34:19.596486",
     "exception": false,
     "start_time": "2025-01-07T07:34:19.245577",
     "status": "completed"
    },
    "tags": []
   },
   "outputs": [
    {
     "data": {
      "image/png": "[encoded data removed]",
      "text/plain": [
       "<Figure size 1000x600 with 1 Axes>"
      ]
     },
     "metadata": {},
     "output_type": "display_data"
    }
   ],
   "source": [
    "plt.figure(figsize=(10, 6))\n",
    "sns.barplot(data=df_train, x='Building Type', y='Energy Consumption', palette='viridis')\n",
    "plt.title('Average Energy Consumption by Building Type', fontsize=16)\n",
    "plt.xlabel('Building Type', fontsize=12)\n",
    "plt.ylabel('Average Energy Consumption', fontsize=12)\n",
    "plt.show()"
   ]
  },
  {
   "cell_type": "markdown",
   "id": "639c310a",
   "metadata": {
    "papermill": {
     "duration": 0.009203,
     "end_time": "2025-01-07T07:34:19.615145",
     "exception": false,
     "start_time": "2025-01-07T07:34:19.605942",
     "status": "completed"
    },
    "tags": []
   },
   "source": [
    "## Square Footage vs Energy Consumption"
   ]
  },
  {
   "cell_type": "code",
   "execution_count": 11,
   "id": "d3f8a61c",
   "metadata": {
    "execution": {
     "iopub.execute_input": "2025-01-07T07:34:19.635746Z",
     "iopub.status.busy": "2025-01-07T07:34:19.635133Z",
     "iopub.status.idle": "2025-01-07T07:34:20.126247Z",
     "shell.execute_reply": "2025-01-07T07:34:20.124878Z"
    },
    "papermill": {
     "duration": 0.505987,
     "end_time": "2025-01-07T07:34:20.130281",
     "exception": false,
     "start_time": "2025-01-07T07:34:19.624294",
     "status": "completed"
    },
    "tags": []
   },
   "outputs": [
    {
     "data": {
      "image/png": "[encoded data removed]",
      "text/plain": [
       "<Figure size 1000x600 with 1 Axes>"
      ]
     },
     "metadata": {},
     "output_type": "display_data"
    }
   ],
   "source": [
    "plt.figure(figsize=(10, 6))\n",
    "sns.scatterplot(data=df_train, x='Square Footage', y='Energy Consumption', hue='Building Type', palette='tab10')\n",
    "plt.title('Square Footage vs Energy Consumption', fontsize=16)\n",
    "plt.xlabel('Square Footage', fontsize=12)\n",
    "plt.ylabel('Energy Consumption', fontsize=12)\n",
    "plt.legend(title='Building Type')\n",
    "plt.show()"
   ]
  },
  {
   "cell_type": "markdown",
   "id": "41e8fc35",
   "metadata": {
    "papermill": {
     "duration": 0.016659,
     "end_time": "2025-01-07T07:34:21.069727",
     "exception": false,
     "start_time": "2025-01-07T07:34:21.053068",
     "status": "completed"
    },
    "tags": []
   },
   "source": [
    "# 4. MODEL BUILDING"
   ]
  },
  {
   "cell_type": "code",
   "execution_count": 12,
   "id": "1712c306",
   "metadata": {
    "execution": {
     "iopub.execute_input": "2025-01-07T07:34:21.105140Z",
     "iopub.status.busy": "2025-01-07T07:34:21.104685Z",
     "iopub.status.idle": "2025-01-07T07:34:21.117633Z",
     "shell.execute_reply": "2025-01-07T07:34:21.116578Z"
    },
    "papermill": {
     "duration": 0.033006,
     "end_time": "2025-01-07T07:34:21.119600",
     "exception": false,
     "start_time": "2025-01-07T07:34:21.086594",
     "status": "completed"
    },
    "tags": []
   },
   "outputs": [
    {
     "data": {
      "text/html": [
       "<div>\n",
       "<style scoped>\n",
       "    .dataframe tbody tr th:only-of-type {\n",
       "        vertical-align: middle;\n",
       "    }\n",
       "\n",
       "    .dataframe tbody tr th {\n",
       "        vertical-align: top;\n",
       "    }\n",
       "\n",
       "    .dataframe thead th {\n",
       "        text-align: right;\n",
       "    }\n",
       "</style>\n",
       "<table border=\"1\" class=\"dataframe\">\n",
       "  <thead>\n",
       "    <tr style=\"text-align: right;\">\n",
       "      <th></th>\n",
       "      <th>Building Type</th>\n",
       "      <th>Square Footage</th>\n",
       "      <th>Number of Occupants</th>\n",
       "      <th>Appliances Used</th>\n",
       "      <th>Average Temperature</th>\n",
       "      <th>Day of Week</th>\n",
       "      <th>Energy Consumption</th>\n",
       "    </tr>\n",
       "  </thead>\n",
       "  <tbody>\n",
       "    <tr>\n",
       "      <th>0</th>\n",
       "      <td>Residential</td>\n",
       "      <td>24563</td>\n",
       "      <td>15</td>\n",
       "      <td>4</td>\n",
       "      <td>28.52</td>\n",
       "      <td>Weekday</td>\n",
       "      <td>2865.57</td>\n",
       "    </tr>\n",
       "    <tr>\n",
       "      <th>1</th>\n",
       "      <td>Commercial</td>\n",
       "      <td>27583</td>\n",
       "      <td>56</td>\n",
       "      <td>23</td>\n",
       "      <td>23.07</td>\n",
       "      <td>Weekend</td>\n",
       "      <td>4283.80</td>\n",
       "    </tr>\n",
       "    <tr>\n",
       "      <th>2</th>\n",
       "      <td>Commercial</td>\n",
       "      <td>45313</td>\n",
       "      <td>4</td>\n",
       "      <td>44</td>\n",
       "      <td>33.56</td>\n",
       "      <td>Weekday</td>\n",
       "      <td>5067.83</td>\n",
       "    </tr>\n",
       "    <tr>\n",
       "      <th>3</th>\n",
       "      <td>Residential</td>\n",
       "      <td>41625</td>\n",
       "      <td>84</td>\n",
       "      <td>17</td>\n",
       "      <td>27.39</td>\n",
       "      <td>Weekend</td>\n",
       "      <td>4624.30</td>\n",
       "    </tr>\n",
       "    <tr>\n",
       "      <th>4</th>\n",
       "      <td>Residential</td>\n",
       "      <td>36720</td>\n",
       "      <td>58</td>\n",
       "      <td>47</td>\n",
       "      <td>17.08</td>\n",
       "      <td>Weekday</td>\n",
       "      <td>4820.59</td>\n",
       "    </tr>\n",
       "  </tbody>\n",
       "</table>\n",
       "</div>"
      ],
      "text/plain": [
       "  Building Type  Square Footage  Number of Occupants  Appliances Used  \\\n",
       "0   Residential           24563                   15                4   \n",
       "1    Commercial           27583                   56               23   \n",
       "2    Commercial           45313                    4               44   \n",
       "3   Residential           41625                   84               17   \n",
       "4   Residential           36720                   58               47   \n",
       "\n",
       "   Average Temperature Day of Week  Energy Consumption  \n",
       "0                28.52     Weekday             2865.57  \n",
       "1                23.07     Weekend             4283.80  \n",
       "2                33.56     Weekday             5067.83  \n",
       "3                27.39     Weekend             4624.30  \n",
       "4                17.08     Weekday             4820.59  "
      ]
     },
     "execution_count": 12,
     "metadata": {},
     "output_type": "execute_result"
    }
   ],
   "source": [
    "df_train.head()"
   ]
  },
  {
   "cell_type": "markdown",
   "id": "3166c88d",
   "metadata": {
    "papermill": {
     "duration": 0.016562,
     "end_time": "2025-01-07T07:34:21.153925",
     "exception": false,
     "start_time": "2025-01-07T07:34:21.137363",
     "status": "completed"
    },
    "tags": []
   },
   "source": [
    "## One-Hot Encoding for Categorical features"
   ]
  },
  {
   "cell_type": "code",
   "execution_count": 13,
   "id": "cfd0aac9",
   "metadata": {
    "execution": {
     "iopub.execute_input": "2025-01-07T07:34:21.189097Z",
     "iopub.status.busy": "2025-01-07T07:34:21.188666Z",
     "iopub.status.idle": "2025-01-07T07:34:21.205520Z",
     "shell.execute_reply": "2025-01-07T07:34:21.204340Z"
    },
    "papermill": {
     "duration": 0.036461,
     "end_time": "2025-01-07T07:34:21.207244",
     "exception": false,
     "start_time": "2025-01-07T07:34:21.170783",
     "status": "completed"
    },
    "tags": []
   },
   "outputs": [
    {
     "data": {
      "text/html": [
       "<div>\n",
       "<style scoped>\n",
       "    .dataframe tbody tr th:only-of-type {\n",
       "        vertical-align: middle;\n",
       "    }\n",
       "\n",
       "    .dataframe tbody tr th {\n",
       "        vertical-align: top;\n",
       "    }\n",
       "\n",
       "    .dataframe thead th {\n",
       "        text-align: right;\n",
       "    }\n",
       "</style>\n",
       "<table border=\"1\" class=\"dataframe\">\n",
       "  <thead>\n",
       "    <tr style=\"text-align: right;\">\n",
       "      <th></th>\n",
       "      <th>Square Footage</th>\n",
       "      <th>Number of Occupants</th>\n",
       "      <th>Appliances Used</th>\n",
       "      <th>Average Temperature</th>\n",
       "      <th>Energy Consumption</th>\n",
       "      <th>Building Type_Industrial</th>\n",
       "      <th>Building Type_Residential</th>\n",
       "      <th>Day of Week_Weekend</th>\n",
       "    </tr>\n",
       "  </thead>\n",
       "  <tbody>\n",
       "    <tr>\n",
       "      <th>0</th>\n",
       "      <td>24563</td>\n",
       "      <td>15</td>\n",
       "      <td>4</td>\n",
       "      <td>28.52</td>\n",
       "      <td>2865.57</td>\n",
       "      <td>False</td>\n",
       "      <td>True</td>\n",
       "      <td>False</td>\n",
       "    </tr>\n",
       "    <tr>\n",
       "      <th>1</th>\n",
       "      <td>27583</td>\n",
       "      <td>56</td>\n",
       "      <td>23</td>\n",
       "      <td>23.07</td>\n",
       "      <td>4283.80</td>\n",
       "      <td>False</td>\n",
       "      <td>False</td>\n",
       "      <td>True</td>\n",
       "    </tr>\n",
       "    <tr>\n",
       "      <th>2</th>\n",
       "      <td>45313</td>\n",
       "      <td>4</td>\n",
       "      <td>44</td>\n",
       "      <td>33.56</td>\n",
       "      <td>5067.83</td>\n",
       "      <td>False</td>\n",
       "      <td>False</td>\n",
       "      <td>False</td>\n",
       "    </tr>\n",
       "    <tr>\n",
       "      <th>3</th>\n",
       "      <td>41625</td>\n",
       "      <td>84</td>\n",
       "      <td>17</td>\n",
       "      <td>27.39</td>\n",
       "      <td>4624.30</td>\n",
       "      <td>False</td>\n",
       "      <td>True</td>\n",
       "      <td>True</td>\n",
       "    </tr>\n",
       "    <tr>\n",
       "      <th>4</th>\n",
       "      <td>36720</td>\n",
       "      <td>58</td>\n",
       "      <td>47</td>\n",
       "      <td>17.08</td>\n",
       "      <td>4820.59</td>\n",
       "      <td>False</td>\n",
       "      <td>True</td>\n",
       "      <td>False</td>\n",
       "    </tr>\n",
       "  </tbody>\n",
       "</table>\n",
       "</div>"
      ],
      "text/plain": [
       "   Square Footage  Number of Occupants  Appliances Used  Average Temperature  \\\n",
       "0           24563                   15                4                28.52   \n",
       "1           27583                   56               23                23.07   \n",
       "2           45313                    4               44                33.56   \n",
       "3           41625                   84               17                27.39   \n",
       "4           36720                   58               47                17.08   \n",
       "\n",
       "   Energy Consumption  Building Type_Industrial  Building Type_Residential  \\\n",
       "0             2865.57                     False                       True   \n",
       "1             4283.80                     False                      False   \n",
       "2             5067.83                     False                      False   \n",
       "3             4624.30                     False                       True   \n",
       "4             4820.59                     False                       True   \n",
       "\n",
       "   Day of Week_Weekend  \n",
       "0                False  \n",
       "1                 True  \n",
       "2                False  \n",
       "3                 True  \n",
       "4                False  "
      ]
     },
     "execution_count": 13,
     "metadata": {},
     "output_type": "execute_result"
    }
   ],
   "source": [
    "df_train_encoded = pd.get_dummies(df_train, columns=['Building Type', 'Day of Week'], drop_first=True)\n",
    "\n",
    "df_train_encoded.head()"
   ]
  },
  {
   "cell_type": "markdown",
   "id": "ef944c32",
   "metadata": {
    "papermill": {
     "duration": 0.020324,
     "end_time": "2025-01-07T07:35:18.498494",
     "exception": false,
     "start_time": "2025-01-07T07:35:18.478170",
     "status": "completed"
    },
    "tags": []
   },
   "source": [
    "## 5. Linear Regression"
   ]
  },
  {
   "cell_type": "code",
   "execution_count": 15,
   "id": "aba8e318",
   "metadata": {},
   "outputs": [],
   "source": [
    "X = df_train_encoded.drop(columns=['Energy Consumption'])\n",
    "y = df_train_encoded['Energy Consumption']\n",
    "\n",
    "X_train, X_test, y_train, y_test = train_test_split(X, y, test_size=0.2, random_state=42)"
   ]
  },
  {
   "cell_type": "code",
   "execution_count": 16,
   "id": "cef1e5f1",
   "metadata": {
    "execution": {
     "iopub.execute_input": "2025-01-07T07:35:18.540656Z",
     "iopub.status.busy": "2025-01-07T07:35:18.540313Z",
     "iopub.status.idle": "2025-01-07T07:35:18.568156Z",
     "shell.execute_reply": "2025-01-07T07:35:18.566719Z"
    },
    "papermill": {
     "duration": 0.051421,
     "end_time": "2025-01-07T07:35:18.570396",
     "exception": false,
     "start_time": "2025-01-07T07:35:18.518975",
     "status": "completed"
    },
    "tags": []
   },
   "outputs": [
    {
     "name": "stdout",
     "output_type": "stream",
     "text": [
      "RMSE for Linear Regression: 0.01585266333314854\n"
     ]
    }
   ],
   "source": [
    "lr_model = LinearRegression()\n",
    "lr_model.fit(X_train, y_train)\n",
    "\n",
    "y_pred_lr = lr_model.predict(X_test)\n",
    "rmse_lr = np.sqrt(mean_squared_error(y_test, y_pred_lr))\n",
    "\n",
    "print(f\"RMSE for Linear Regression: {rmse_lr}\")"
   ]
  },
  {
   "cell_type": "code",
   "execution_count": 20,
   "id": "dccf2dd8",
   "metadata": {},
   "outputs": [
    {
     "data": {
      "text/plain": [
       "0.9999999996232116"
      ]
     },
     "execution_count": 20,
     "metadata": {},
     "output_type": "execute_result"
    }
   ],
   "source": [
    "from sklearn.metrics import r2_score\n",
    "r2_score(y_test,y_pred_lr)"
   ]
  },
  {
   "cell_type": "code",
   "execution_count": null,
   "id": "6fd3b3d2",
   "metadata": {},
   "outputs": [],
   "source": []
  }
 ],
 "metadata": {
  "kaggle": {
   "accelerator": "none",
   "dataSources": [
    {
     "datasetId": 6435081,
     "sourceId": 10387261,
     "sourceType": "datasetVersion"
    }
   ],
   "dockerImageVersionId": 30822,
   "isGpuEnabled": false,
   "isInternetEnabled": true,
   "language": "python",
   "sourceType": "notebook"
  },
  "kernelspec": {
   "display_name": "Python 3",
   "language": "python",
   "name": "python3"
  },
  "language_info": {
   "codemirror_mode": {
    "name": "ipython",
    "version": 3
   },
   "file_extension": ".py",
   "mimetype": "text/x-python",
   "name": "python",
   "nbconvert_exporter": "python",
   "pygments_lexer": "ipython3",
   "version": "3.10.11"
  },
  "papermill": {
   "default_parameters": {},
   "duration": 67.306197,
   "end_time": "2025-01-07T07:35:20.539690",
   "environment_variables": {},
   "exception": null,
   "input_path": "__notebook__.ipynb",
   "output_path": "__notebook__.ipynb",
   "parameters": {},
   "start_time": "2025-01-07T07:34:13.233493",
   "version": "2.6.0"
  }
 },
 "nbformat": 4,
 "nbformat_minor": 5
}
